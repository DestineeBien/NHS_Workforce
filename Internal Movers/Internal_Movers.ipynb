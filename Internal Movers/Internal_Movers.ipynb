{
 "cells": [
  {
   "cell_type": "markdown",
   "id": "0d892be1-ff1e-4cfc-a97f-5963c7489868",
   "metadata": {},
   "source": [
    "## Imported Libraries "
   ]
  },
  {
   "cell_type": "code",
   "execution_count": 2,
   "id": "bb1949dc-e4ce-4e6f-826f-68239e53ba4c",
   "metadata": {},
   "outputs": [],
   "source": [
    "import os\n",
    "import sys\n",
    "import pandas as pd \n",
    "import numpy as np \n",
    "import networkx as nx \n",
    "from pyvis.network import Network"
   ]
  },
  {
   "cell_type": "markdown",
   "id": "c926e426-8778-43f5-865b-5d5ddfddde3c",
   "metadata": {},
   "source": [
    "## Load Files"
   ]
  },
  {
   "cell_type": "code",
   "execution_count": 3,
   "id": "15865bca-a232-42f1-95ef-7d89cdaeb82a",
   "metadata": {},
   "outputs": [],
   "source": [
    "BASE_DIR = r\"S:\\WP Personnel\\A - Workforce\\Data science student\\Desys Corner\"\n",
    "STAFF_FILE = os.path.join(BASE_DIR, \"Staff_List_New.csv\")\n",
    "HIRES_FILE = os.path.join(BASE_DIR, \"NHS_Hires_Detail.csv\")\n",
    "LEAVERS_FILE = os.path.join(BASE_DIR, \"NHS_Leavers_Detail.csv\")\n",
    "\n",
    "# Verification of each CSV\n",
    "for file_path in (STAFF_FILE, HIRES_FILE, LEAVERS_FILE):\n",
    "    if not os.path.isfile(file_path):\n",
    "        print(f\":ERROR: Missing file:\\n {file_path}\\n\"\n",
    "              f\"Please confirm that this exact path and filename are correct.\")\n",
    "        sys.exit(1)"
   ]
  },
  {
   "cell_type": "markdown",
   "id": "6db0fd85-8e0d-4237-b63b-b15005341ec3",
   "metadata": {},
   "source": [
    "## Clean Data "
   ]
  },
  {
   "cell_type": "code",
   "execution_count": 4,
   "id": "4822c1dc-77b2-4f4d-87c6-dd267c58f189",
   "metadata": {},
   "outputs": [],
   "source": [
    "df_staff = pd.read_csv(\n",
    "    STAFF_FILE,\n",
    "    low_memory=False\n",
    ")\n",
    "\n",
    "df_staff.columns = (\n",
    "    df_staff.columns.str.strip().str.lower().str.replace(r\"[() ]+\", \"_\", regex=True)\n",
    ")\n",
    "\n",
    "\n",
    "df_staff['month'] = pd.to_datetime(df_staff['month'], format=\"%Y-%m-%d\", errors='coerce')"
   ]
  },
  {
   "cell_type": "code",
   "execution_count": 6,
   "id": "cae9cf15-e2e5-4974-b181-9352399e4efe",
   "metadata": {},
   "outputs": [],
   "source": [
    "\n",
    "for col in ('service_group', 'staff_group', 'department', 'organisation'):\n",
    "    if col in df_staff.columns:\n",
    "        df_staff[col] = df_staff[col].astype(str).str.title().str.strip()\n",
    "\n",
    "\n",
    "df_staff = df_staff.sort_values(['employee_number', 'month']).reset_index(drop=True)"
   ]
  },
  {
   "cell_type": "code",
   "execution_count": 8,
   "id": "7fa758c1-7866-4200-9dcc-828ce57cbf93",
   "metadata": {},
   "outputs": [],
   "source": [
    "\n",
    "df_hires = pd.read_csv(\n",
    "    HIRES_FILE,\n",
    "    low_memory=False\n",
    ")\n",
    "\n",
    "df_hires.columns = (\n",
    "     df_hires.columns.str.strip().str.lower().str.replace(r\"[() ]+\", \"_\", regex=True)\n",
    ")\n",
    "\n",
    "\n",
    "df_leavers = pd.read_csv(\n",
    "    LEAVERS_FILE,\n",
    "    low_memory=False\n",
    ")\n",
    "\n",
    "df_leavers.columns = (\n",
    "     df_leavers.columns.str.strip().str.lower().str.replace(r\"[() ]+\", \"_\", regex=True)\n",
    ")"
   ]
  },
  {
   "cell_type": "markdown",
   "id": "c4a5bf14-39cf-414c-ba0e-e0d717c72f39",
   "metadata": {},
   "source": [
    "## Exclude External Hires/Leavers"
   ]
  },
  {
   "cell_type": "code",
   "execution_count": null,
   "id": "4a1a419b-ba64-4450-b466-0168f2c07442",
   "metadata": {},
   "outputs": [],
   "source": [
    "external_ids = set(df_hires['employee_number']).union(df_leavers['employee_number'])\n",
    "df_staff_int = df_staff[~df_staff['employee_number'].isin(external_ids)].copy()\n",
    "if df_staff_int.empty:\n",
    "    print(\"No internal staff records remain.\")\n",
    "    sys.exit(0)"
   ]
  },
  {
   "cell_type": "markdown",
   "id": "a108d749-b5f5-470b-a533-ecca77cde4cc",
   "metadata": {},
   "source": [
    "## Design NetworkX Graph"
   ]
  },
  {
   "cell_type": "code",
   "execution_count": 41,
   "id": "9d1d4df1-4394-4b44-850d-469af5c8c0e0",
   "metadata": {},
   "outputs": [],
   "source": [
    "G = nx.DiGraph() \n",
    "# Add hire and leave nodes \n",
    "G.add_node(\"HIRE\", label=\"HIRE\", title=\"External Hire\", color=\"green\", size=20)\n",
    "G.add_node(\"LEAVE\", label=\"LEAVE\", title=\"External Leave\", color=\"red\", size=20)\n",
    "added_nodes = set()\n",
    "\n",
    "#Loop through employees history month by month then create nodes\n",
    "grouped = df_staff_int.groupby('employee_number')\n",
    "for emp_id, df_emp in grouped:\n",
    "    df_emp = df_emp.sort_values('month').reset_index(drop=True)\n",
    "    prev_assign = None\n",
    "    for idx, row in df_emp.iterrows():\n",
    "        assign_id = str(row['assignment_number'])\n",
    "        #Node attributes \n",
    "        month_val = row['month']\n",
    "        if pd.isna(month_val):\n",
    "            month_str = \"\"\n",
    "        else:\n",
    "            month_str = month_val.strftime('%Y-%m')\n",
    "        title_html = (\n",
    "            f\"Emp: {emp_id}<br>Dept: {row.get('department','')}<br>\"\n",
    "            f\"Svc: {row.get('service_group','')}<br>Org: {row.get('organisation','')}<br>\"\n",
    "            f\"Month: {month_str}\"\n",
    "        )\n",
    "    node_attrs = {\n",
    "        'label': assign_id,\n",
    "        'title': title_html,\n",
    "        'department': row.get('department',''),\n",
    "        'service_group': row.get('service_group',''),\n",
    "        'organisation': row.get('organisation',''),\n",
    "        'month_str': month_str,\n",
    "        'color': \"blue\",\n",
    "        'size': 15\n",
    "    }\n",
    "    if assign_id not in added_nodes:\n",
    "        G.add_node(assign_id, **node_attrs)\n",
    "        added_nodes.add(assign_id)\n",
    "    if prev_assign is None:\n",
    "        G.add_edge(\"HIRE\", assign_id, employee=emp_id)\n",
    "    else:\n",
    "        G.add_edge(prev_assign, assign_id, employee=emp_id)\n",
    "    prev_assign = assign_id\n",
    "\n",
    "G.add_edge(prev_assign, \"LEAVE\", employee=emp_id)\n"
   ]
  },
  {
   "cell_type": "markdown",
   "id": "39895c32-fa0c-47c0-8f47-0f2b4d789ef6",
   "metadata": {},
   "source": [
    "## Visualise W/ Pyvis"
   ]
  },
  {
   "cell_type": "code",
   "execution_count": 42,
   "id": "bbedc09d-ac5f-4b10-9c66-8708605318fc",
   "metadata": {},
   "outputs": [
    {
     "name": "stdout",
     "output_type": "stream",
     "text": [
      "Network visualisation saved to S:\\WP Personnel\\A - Workforce\\Data science student\\Desys Corner\\internal_moves_network.html\n"
     ]
    }
   ],
   "source": [
    "net = Network(height=\"750px\", width=\"100%\", bgcolor=\"#222222\", font_color=\"white\")\n",
    "# Loaded NetworkX graph into Pyvis\n",
    "net.from_nx(G)\n",
    "\n",
    "#Enable physics for interactive layout \n",
    "net.toggle_physics(True)\n",
    "\n",
    "#Save interactive HTML \n",
    "output_file= os.path.join(BASE_DIR, \"internal_moves_network.html\")\n",
    "net.write_html(output_file)\n",
    "print(f\"Network visualisation saved to {output_file}\")"
   ]
  }
 ],
 "metadata": {
  "kernelspec": {
   "display_name": "Python 3 (ipykernel)",
   "language": "python",
   "name": "python3"
  },
  "language_info": {
   "codemirror_mode": {
    "name": "ipython",
    "version": 3
   },
   "file_extension": ".py",
   "mimetype": "text/x-python",
   "name": "python",
   "nbconvert_exporter": "python",
   "pygments_lexer": "ipython3",
   "version": "3.12.7"
  }
 },
 "nbformat": 4,
 "nbformat_minor": 5
}
